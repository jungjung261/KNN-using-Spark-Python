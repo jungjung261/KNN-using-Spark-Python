{
  "nbformat": 4,
  "nbformat_minor": 0,
  "metadata": {
    "colab": {
      "name": "knn_spark.ipynb",
      "provenance": [],
      "collapsed_sections": []
    },
    "kernelspec": {
      "name": "python3",
      "display_name": "Python 3"
    },
    "language_info": {
      "name": "python"
    }
  },
  "cells": [
    {
      "cell_type": "code",
      "metadata": {
        "colab": {
          "base_uri": "https://localhost:8080/"
        },
        "id": "GNMeMLUrn_Tj",
        "outputId": "42ef71f5-4ece-4f3b-89ec-58221058e88c"
      },
      "source": [
        "!pip install pyspark"
      ],
      "execution_count": null,
      "outputs": [
        {
          "output_type": "stream",
          "name": "stdout",
          "text": [
            "Requirement already satisfied: pyspark in /usr/local/lib/python3.7/dist-packages (3.2.0)\n",
            "Requirement already satisfied: py4j==0.10.9.2 in /usr/local/lib/python3.7/dist-packages (from pyspark) (0.10.9.2)\n"
          ]
        }
      ]
    },
    {
      "cell_type": "code",
      "metadata": {
        "id": "qdGuLzISoTvp"
      },
      "source": [
        "# Census-Income (KDD) Data Set\n",
        "# https://archive.ics.uci.edu/ml/machine-learning-databases/census-income-mld/"
      ],
      "execution_count": null,
      "outputs": []
    },
    {
      "cell_type": "code",
      "metadata": {
        "id": "5s8ejqcQoatL"
      },
      "source": [
        "import numpy as np\n",
        "from pyspark.sql import SparkSession\n",
        "import pandas as pd"
      ],
      "execution_count": null,
      "outputs": []
    },
    {
      "cell_type": "code",
      "metadata": {
        "id": "k9RibXASotHA"
      },
      "source": [
        "spark = SparkSession.builder.master(\"local[*]\").getOrCreate()"
      ],
      "execution_count": null,
      "outputs": []
    },
    {
      "cell_type": "code",
      "metadata": {
        "colab": {
          "base_uri": "https://localhost:8080/",
          "height": 615
        },
        "id": "0lX-iSy_o24V",
        "outputId": "3d12fa2c-d450-422f-ae82-664703cbbace"
      },
      "source": [
        "dataframe = pd.read_csv('/content/census-income.data')\n",
        "dataframe.head()"
      ],
      "execution_count": null,
      "outputs": [
        {
          "output_type": "execute_result",
          "data": {
            "text/html": [
              "<div>\n",
              "<style scoped>\n",
              "    .dataframe tbody tr th:only-of-type {\n",
              "        vertical-align: middle;\n",
              "    }\n",
              "\n",
              "    .dataframe tbody tr th {\n",
              "        vertical-align: top;\n",
              "    }\n",
              "\n",
              "    .dataframe thead th {\n",
              "        text-align: right;\n",
              "    }\n",
              "</style>\n",
              "<table border=\"1\" class=\"dataframe\">\n",
              "  <thead>\n",
              "    <tr style=\"text-align: right;\">\n",
              "      <th></th>\n",
              "      <th>73</th>\n",
              "      <th>Not in universe</th>\n",
              "      <th>0</th>\n",
              "      <th>0.1</th>\n",
              "      <th>High school graduate</th>\n",
              "      <th>0.2</th>\n",
              "      <th>Not in universe.1</th>\n",
              "      <th>Widowed</th>\n",
              "      <th>Not in universe or children</th>\n",
              "      <th>Not in universe.2</th>\n",
              "      <th>White</th>\n",
              "      <th>All other</th>\n",
              "      <th>Female</th>\n",
              "      <th>Not in universe.3</th>\n",
              "      <th>Not in universe.4</th>\n",
              "      <th>Not in labor force</th>\n",
              "      <th>0.3</th>\n",
              "      <th>0.4</th>\n",
              "      <th>0.5</th>\n",
              "      <th>Nonfiler</th>\n",
              "      <th>Not in universe.5</th>\n",
              "      <th>Not in universe.6</th>\n",
              "      <th>Other Rel 18+ ever marr not in subfamily</th>\n",
              "      <th>Other relative of householder</th>\n",
              "      <th>1700.09</th>\n",
              "      <th>?</th>\n",
              "      <th>?.1</th>\n",
              "      <th>?.2</th>\n",
              "      <th>Not in universe under 1 year old</th>\n",
              "      <th>?.3</th>\n",
              "      <th>0.6</th>\n",
              "      <th>Not in universe.7</th>\n",
              "      <th>United-States</th>\n",
              "      <th>United-States.1</th>\n",
              "      <th>United-States.2</th>\n",
              "      <th>Native- Born in the United States</th>\n",
              "      <th>0.7</th>\n",
              "      <th>Not in universe.8</th>\n",
              "      <th>2</th>\n",
              "      <th>0.8</th>\n",
              "      <th>95</th>\n",
              "      <th>- 50000.</th>\n",
              "    </tr>\n",
              "  </thead>\n",
              "  <tbody>\n",
              "    <tr>\n",
              "      <th>0</th>\n",
              "      <td>58</td>\n",
              "      <td>Self-employed-not incorporated</td>\n",
              "      <td>4</td>\n",
              "      <td>34</td>\n",
              "      <td>Some college but no degree</td>\n",
              "      <td>0</td>\n",
              "      <td>Not in universe</td>\n",
              "      <td>Divorced</td>\n",
              "      <td>Construction</td>\n",
              "      <td>Precision production craft &amp; repair</td>\n",
              "      <td>White</td>\n",
              "      <td>All other</td>\n",
              "      <td>Male</td>\n",
              "      <td>Not in universe</td>\n",
              "      <td>Not in universe</td>\n",
              "      <td>Children or Armed Forces</td>\n",
              "      <td>0</td>\n",
              "      <td>0</td>\n",
              "      <td>0</td>\n",
              "      <td>Head of household</td>\n",
              "      <td>South</td>\n",
              "      <td>Arkansas</td>\n",
              "      <td>Householder</td>\n",
              "      <td>Householder</td>\n",
              "      <td>1053.55</td>\n",
              "      <td>MSA to MSA</td>\n",
              "      <td>Same county</td>\n",
              "      <td>Same county</td>\n",
              "      <td>No</td>\n",
              "      <td>Yes</td>\n",
              "      <td>1</td>\n",
              "      <td>Not in universe</td>\n",
              "      <td>United-States</td>\n",
              "      <td>United-States</td>\n",
              "      <td>United-States</td>\n",
              "      <td>Native- Born in the United States</td>\n",
              "      <td>0</td>\n",
              "      <td>Not in universe</td>\n",
              "      <td>2</td>\n",
              "      <td>52</td>\n",
              "      <td>94</td>\n",
              "      <td>- 50000.</td>\n",
              "    </tr>\n",
              "    <tr>\n",
              "      <th>1</th>\n",
              "      <td>18</td>\n",
              "      <td>Not in universe</td>\n",
              "      <td>0</td>\n",
              "      <td>0</td>\n",
              "      <td>10th grade</td>\n",
              "      <td>0</td>\n",
              "      <td>High school</td>\n",
              "      <td>Never married</td>\n",
              "      <td>Not in universe or children</td>\n",
              "      <td>Not in universe</td>\n",
              "      <td>Asian or Pacific Islander</td>\n",
              "      <td>All other</td>\n",
              "      <td>Female</td>\n",
              "      <td>Not in universe</td>\n",
              "      <td>Not in universe</td>\n",
              "      <td>Not in labor force</td>\n",
              "      <td>0</td>\n",
              "      <td>0</td>\n",
              "      <td>0</td>\n",
              "      <td>Nonfiler</td>\n",
              "      <td>Not in universe</td>\n",
              "      <td>Not in universe</td>\n",
              "      <td>Child 18+ never marr Not in a subfamily</td>\n",
              "      <td>Child 18 or older</td>\n",
              "      <td>991.95</td>\n",
              "      <td>?</td>\n",
              "      <td>?</td>\n",
              "      <td>?</td>\n",
              "      <td>Not in universe under 1 year old</td>\n",
              "      <td>?</td>\n",
              "      <td>0</td>\n",
              "      <td>Not in universe</td>\n",
              "      <td>Vietnam</td>\n",
              "      <td>Vietnam</td>\n",
              "      <td>Vietnam</td>\n",
              "      <td>Foreign born- Not a citizen of U S</td>\n",
              "      <td>0</td>\n",
              "      <td>Not in universe</td>\n",
              "      <td>2</td>\n",
              "      <td>0</td>\n",
              "      <td>95</td>\n",
              "      <td>- 50000.</td>\n",
              "    </tr>\n",
              "    <tr>\n",
              "      <th>2</th>\n",
              "      <td>9</td>\n",
              "      <td>Not in universe</td>\n",
              "      <td>0</td>\n",
              "      <td>0</td>\n",
              "      <td>Children</td>\n",
              "      <td>0</td>\n",
              "      <td>Not in universe</td>\n",
              "      <td>Never married</td>\n",
              "      <td>Not in universe or children</td>\n",
              "      <td>Not in universe</td>\n",
              "      <td>White</td>\n",
              "      <td>All other</td>\n",
              "      <td>Female</td>\n",
              "      <td>Not in universe</td>\n",
              "      <td>Not in universe</td>\n",
              "      <td>Children or Armed Forces</td>\n",
              "      <td>0</td>\n",
              "      <td>0</td>\n",
              "      <td>0</td>\n",
              "      <td>Nonfiler</td>\n",
              "      <td>Not in universe</td>\n",
              "      <td>Not in universe</td>\n",
              "      <td>Child &lt;18 never marr not in subfamily</td>\n",
              "      <td>Child under 18 never married</td>\n",
              "      <td>1758.14</td>\n",
              "      <td>Nonmover</td>\n",
              "      <td>Nonmover</td>\n",
              "      <td>Nonmover</td>\n",
              "      <td>Yes</td>\n",
              "      <td>Not in universe</td>\n",
              "      <td>0</td>\n",
              "      <td>Both parents present</td>\n",
              "      <td>United-States</td>\n",
              "      <td>United-States</td>\n",
              "      <td>United-States</td>\n",
              "      <td>Native- Born in the United States</td>\n",
              "      <td>0</td>\n",
              "      <td>Not in universe</td>\n",
              "      <td>0</td>\n",
              "      <td>0</td>\n",
              "      <td>94</td>\n",
              "      <td>- 50000.</td>\n",
              "    </tr>\n",
              "    <tr>\n",
              "      <th>3</th>\n",
              "      <td>10</td>\n",
              "      <td>Not in universe</td>\n",
              "      <td>0</td>\n",
              "      <td>0</td>\n",
              "      <td>Children</td>\n",
              "      <td>0</td>\n",
              "      <td>Not in universe</td>\n",
              "      <td>Never married</td>\n",
              "      <td>Not in universe or children</td>\n",
              "      <td>Not in universe</td>\n",
              "      <td>White</td>\n",
              "      <td>All other</td>\n",
              "      <td>Female</td>\n",
              "      <td>Not in universe</td>\n",
              "      <td>Not in universe</td>\n",
              "      <td>Children or Armed Forces</td>\n",
              "      <td>0</td>\n",
              "      <td>0</td>\n",
              "      <td>0</td>\n",
              "      <td>Nonfiler</td>\n",
              "      <td>Not in universe</td>\n",
              "      <td>Not in universe</td>\n",
              "      <td>Child &lt;18 never marr not in subfamily</td>\n",
              "      <td>Child under 18 never married</td>\n",
              "      <td>1069.16</td>\n",
              "      <td>Nonmover</td>\n",
              "      <td>Nonmover</td>\n",
              "      <td>Nonmover</td>\n",
              "      <td>Yes</td>\n",
              "      <td>Not in universe</td>\n",
              "      <td>0</td>\n",
              "      <td>Both parents present</td>\n",
              "      <td>United-States</td>\n",
              "      <td>United-States</td>\n",
              "      <td>United-States</td>\n",
              "      <td>Native- Born in the United States</td>\n",
              "      <td>0</td>\n",
              "      <td>Not in universe</td>\n",
              "      <td>0</td>\n",
              "      <td>0</td>\n",
              "      <td>94</td>\n",
              "      <td>- 50000.</td>\n",
              "    </tr>\n",
              "    <tr>\n",
              "      <th>4</th>\n",
              "      <td>48</td>\n",
              "      <td>Private</td>\n",
              "      <td>40</td>\n",
              "      <td>10</td>\n",
              "      <td>Some college but no degree</td>\n",
              "      <td>1200</td>\n",
              "      <td>Not in universe</td>\n",
              "      <td>Married-civilian spouse present</td>\n",
              "      <td>Entertainment</td>\n",
              "      <td>Professional specialty</td>\n",
              "      <td>Amer Indian Aleut or Eskimo</td>\n",
              "      <td>All other</td>\n",
              "      <td>Female</td>\n",
              "      <td>No</td>\n",
              "      <td>Not in universe</td>\n",
              "      <td>Full-time schedules</td>\n",
              "      <td>0</td>\n",
              "      <td>0</td>\n",
              "      <td>0</td>\n",
              "      <td>Joint both under 65</td>\n",
              "      <td>Not in universe</td>\n",
              "      <td>Not in universe</td>\n",
              "      <td>Spouse of householder</td>\n",
              "      <td>Spouse of householder</td>\n",
              "      <td>162.61</td>\n",
              "      <td>?</td>\n",
              "      <td>?</td>\n",
              "      <td>?</td>\n",
              "      <td>Not in universe under 1 year old</td>\n",
              "      <td>?</td>\n",
              "      <td>1</td>\n",
              "      <td>Not in universe</td>\n",
              "      <td>Philippines</td>\n",
              "      <td>United-States</td>\n",
              "      <td>United-States</td>\n",
              "      <td>Native- Born in the United States</td>\n",
              "      <td>2</td>\n",
              "      <td>Not in universe</td>\n",
              "      <td>2</td>\n",
              "      <td>52</td>\n",
              "      <td>95</td>\n",
              "      <td>- 50000.</td>\n",
              "    </tr>\n",
              "  </tbody>\n",
              "</table>\n",
              "</div>"
            ],
            "text/plain": [
              "   73                  Not in universe   0   0.1  ...  2   0.8  95   - 50000.\n",
              "0  58   Self-employed-not incorporated   4    34  ...  2    52  94   - 50000.\n",
              "1  18                  Not in universe   0     0  ...  2     0  95   - 50000.\n",
              "2   9                  Not in universe   0     0  ...  0     0  94   - 50000.\n",
              "3  10                  Not in universe   0     0  ...  0     0  94   - 50000.\n",
              "4  48                          Private  40    10  ...  2    52  95   - 50000.\n",
              "\n",
              "[5 rows x 42 columns]"
            ]
          },
          "metadata": {},
          "execution_count": 15
        }
      ]
    },
    {
      "cell_type": "code",
      "metadata": {
        "id": "JU0W2jp-u7UB"
      },
      "source": [
        "# # information from data table\n",
        "# # 1. column names \n",
        "# print(list(dataframe.columns))\n",
        "# col_names = list(dataframe.columns) \n",
        "# # 2. column data types\n",
        "# size = len(col_names)\n",
        "# for i in range(size):\n",
        "#    print(col_names[i],dataframe.dtypes[i])"
      ],
      "execution_count": null,
      "outputs": []
    },
    {
      "cell_type": "code",
      "metadata": {
        "id": "qwkdxFdUsDUp"
      },
      "source": [
        "from sklearn.preprocessing import LabelEncoder"
      ],
      "execution_count": null,
      "outputs": []
    },
    {
      "cell_type": "code",
      "metadata": {
        "colab": {
          "base_uri": "https://localhost:8080/"
        },
        "id": "yQNaA7o0sG4F",
        "outputId": "73db99de-7d3c-4348-cc17-2dcc12f43b21"
      },
      "source": [
        "#Encode dataframe\n",
        "LE = LabelEncoder()\n",
        "dataframe[' Not in universe'] = LE.fit_transform(dataframe[' Not in universe'])\n",
        "dataframe[' High school graduate'] = LE.fit_transform(dataframe[' High school graduate'])\n",
        "dataframe[' Widowed'] = LE.fit_transform(dataframe[' Widowed'])\n",
        "dataframe[' Not in universe or children'] = LE.fit_transform(dataframe[' Not in universe or children'])\n",
        "dataframe[' Female'] = LE.fit_transform(dataframe[' Female'])\n",
        "dataframe[' Not in labor force'] = LE.fit_transform(dataframe[' Not in labor force'])\n",
        "dataframe[' Other Rel 18+ ever marr not in subfamily'] = LE.fit_transform(dataframe[' Other Rel 18+ ever marr not in subfamily'])\n",
        "dataframe[' Other relative of householder'] = LE.fit_transform(dataframe[' Other relative of householder'])\n",
        "dataframe[' United-States'] = LE.fit_transform(dataframe[' United-States'])\n",
        "dataframe[' Native- Born in the United States'] = LE.fit_transform(dataframe[' Native- Born in the United States'])\n",
        "print(dataframe[:])"
      ],
      "execution_count": null,
      "outputs": [
        {
          "output_type": "stream",
          "name": "stdout",
          "text": [
            "        73   Not in universe   0   0.1  ...   2   0.8  95   - 50000.\n",
            "0       58                 6   4    34  ...   2    52  94   - 50000.\n",
            "1       18                 3   0     0  ...   2     0  95   - 50000.\n",
            "2        9                 3   0     0  ...   0     0  94   - 50000.\n",
            "3       10                 3   0     0  ...   0     0  94   - 50000.\n",
            "4       48                 4  40    10  ...   2    52  95   - 50000.\n",
            "...     ..               ...  ..   ...  ...  ..   ...  ..        ...\n",
            "199517  87                 3   0     0  ...   2     0  95   - 50000.\n",
            "199518  65                 5  37     2  ...   2    52  94   - 50000.\n",
            "199519  47                 3   0     0  ...   2    52  95   - 50000.\n",
            "199520  16                 3   0     0  ...   2     0  95   - 50000.\n",
            "199521  32                 4  42    30  ...   2    52  94   - 50000.\n",
            "\n",
            "[199522 rows x 42 columns]\n"
          ]
        }
      ]
    },
    {
      "cell_type": "code",
      "metadata": {
        "id": "1SBcUBjtwzSd"
      },
      "source": [
        "dataframe = dataframe.apply(LabelEncoder().fit_transform)"
      ],
      "execution_count": null,
      "outputs": []
    },
    {
      "cell_type": "code",
      "metadata": {
        "id": "ESVO0V2hsd8j"
      },
      "source": [
        "from sklearn.preprocessing import MinMaxScaler"
      ],
      "execution_count": null,
      "outputs": []
    },
    {
      "cell_type": "code",
      "metadata": {
        "colab": {
          "base_uri": "https://localhost:8080/"
        },
        "id": "QkFB4eZnsW_3",
        "outputId": "2a99582a-f7c0-4565-95ec-f37cf1c9dc91"
      },
      "source": [
        "#Scale dataframe\n",
        "dataframe = MinMaxScaler().fit_transform(dataframe)\n",
        "dataframe"
      ],
      "execution_count": null,
      "outputs": [
        {
          "output_type": "execute_result",
          "data": {
            "text/plain": [
              "array([[0.64444444, 0.75      , 0.07843137, ..., 1.        , 0.        ,\n",
              "        0.        ],\n",
              "       [0.2       , 0.375     , 0.        , ..., 0.        , 1.        ,\n",
              "        0.        ],\n",
              "       [0.1       , 0.375     , 0.        , ..., 0.        , 0.        ,\n",
              "        0.        ],\n",
              "       ...,\n",
              "       [0.52222222, 0.375     , 0.        , ..., 1.        , 1.        ,\n",
              "        0.        ],\n",
              "       [0.17777778, 0.375     , 0.        , ..., 0.        , 1.        ,\n",
              "        0.        ],\n",
              "       [0.35555556, 0.5       , 0.82352941, ..., 1.        , 0.        ,\n",
              "        0.        ]])"
            ]
          },
          "metadata": {},
          "execution_count": 20
        }
      ]
    },
    {
      "cell_type": "code",
      "metadata": {
        "id": "N_f3mJCGsjmK"
      },
      "source": [
        "from sklearn.model_selection import train_test_split"
      ],
      "execution_count": null,
      "outputs": []
    },
    {
      "cell_type": "code",
      "metadata": {
        "colab": {
          "base_uri": "https://localhost:8080/"
        },
        "id": "yCnjeXD8svBZ",
        "outputId": "e194c308-30fa-46bb-8cf6-f27d3742a01d"
      },
      "source": [
        "# Split and RDD data\n",
        "split_data, test_data = train_test_split(dataframe, test_size=100)\n",
        "data_rdd_train = spark.sparkContext.parallelize(split_data)\n",
        "data_rdd_train.take(5)"
      ],
      "execution_count": null,
      "outputs": [
        {
          "output_type": "execute_result",
          "data": {
            "text/plain": [
              "[array([0.48888889, 0.5       , 0.84313725, 0.2173913 , 0.875     ,\n",
              "        0.        , 1.        , 0.33333333, 0.2173913 , 0.71428571,\n",
              "        1.        , 0.        , 0.        , 0.5       , 0.6       ,\n",
              "        0.14285714, 0.        , 0.        , 0.28842248, 0.4       ,\n",
              "        0.6       , 0.72      , 1.        , 1.        , 0.70640988,\n",
              "        0.        , 0.        , 0.        , 0.5       , 0.        ,\n",
              "        0.33333333, 1.        , 0.76190476, 0.95238095, 0.95238095,\n",
              "        1.        , 0.        , 0.5       , 1.        , 0.75      ,\n",
              "        1.        , 0.        ]),\n",
              " array([0.94444444, 0.375     , 0.        , 0.        , 0.3125    ,\n",
              "        0.        , 1.        , 0.66666667, 0.60869565, 0.42857143,\n",
              "        1.        , 0.        , 0.        , 0.5       , 0.6       ,\n",
              "        0.        , 0.        , 0.        , 0.        , 1.        ,\n",
              "        0.6       , 0.72      , 0.7027027 , 0.85714286, 0.64955561,\n",
              "        0.77777778, 0.75      , 0.77777778, 1.        , 0.66666667,\n",
              "        0.        , 1.        , 0.95238095, 0.95238095, 0.95238095,\n",
              "        1.        , 0.        , 0.5       , 1.        , 0.        ,\n",
              "        0.        , 0.        ]),\n",
              " array([0.48888889, 0.5       , 0.07843137, 0.73913043, 0.75      ,\n",
              "        0.        , 1.        , 0.33333333, 0.17391304, 0.57142857,\n",
              "        1.        , 0.        , 1.        , 0.5       , 0.6       ,\n",
              "        0.14285714, 0.        , 0.        , 0.        , 0.4       ,\n",
              "        0.6       , 0.72      , 0.54054054, 0.57142857, 0.38690768,\n",
              "        0.        , 0.        , 0.        , 0.5       , 0.        ,\n",
              "        0.5       , 1.        , 0.95238095, 0.95238095, 0.95238095,\n",
              "        1.        , 0.        , 0.5       , 1.        , 0.71153846,\n",
              "        1.        , 0.        ]),\n",
              " array([0.86666667, 0.375     , 0.        , 0.        , 0.25      ,\n",
              "        0.        , 1.        , 1.        , 0.60869565, 0.42857143,\n",
              "        1.        , 0.        , 0.        , 0.5       , 0.6       ,\n",
              "        0.        , 0.        , 0.        , 0.        , 1.        ,\n",
              "        0.6       , 0.72      , 0.59459459, 0.57142857, 0.24583413,\n",
              "        0.77777778, 0.75      , 0.77777778, 1.        , 0.66666667,\n",
              "        0.        , 1.        , 0.23809524, 0.04761905, 0.95238095,\n",
              "        1.        , 0.        , 0.5       , 1.        , 0.        ,\n",
              "        0.        , 0.        ]),\n",
              " array([0.56666667, 0.375     , 0.        , 0.        , 1.        ,\n",
              "        0.        , 1.        , 0.        , 0.60869565, 0.42857143,\n",
              "        1.        , 0.        , 0.        , 0.5       , 0.6       ,\n",
              "        0.        , 0.        , 0.        , 0.        , 1.        ,\n",
              "        0.4       , 0.42      , 0.54054054, 0.57142857, 0.15306767,\n",
              "        0.33333333, 1.        , 1.        , 0.        , 0.33333333,\n",
              "        0.66666667, 1.        , 0.95238095, 0.95238095, 0.95238095,\n",
              "        1.        , 0.        , 0.5       , 1.        , 0.5       ,\n",
              "        0.        , 0.        ])]"
            ]
          },
          "metadata": {},
          "execution_count": 22
        }
      ]
    },
    {
      "cell_type": "code",
      "metadata": {
        "id": "KRz78rjy3FNC"
      },
      "source": [
        "import math"
      ],
      "execution_count": null,
      "outputs": []
    },
    {
      "cell_type": "code",
      "metadata": {
        "id": "IwGfioCK0DZd"
      },
      "source": [
        "# function to get distane\n",
        "def get_distance(point1, point2):\n",
        "  distance = np.sum((point1 - point2)**2)\n",
        "  return distance"
      ],
      "execution_count": null,
      "outputs": []
    },
    {
      "cell_type": "code",
      "metadata": {
        "id": "dHepWEwE0Q2t"
      },
      "source": [
        "# func KNN\n",
        "def calcKNN(rdd_train, p):\n",
        "  rdd = data_rdd_train.map(lambda x: (x[-1], get_distance(x[:-1], p[:-1])))\n",
        "  return rdd.sortBy(lambda x: x[1], ascending=True).take(1)[0][0]"
      ],
      "execution_count": null,
      "outputs": []
    },
    {
      "cell_type": "code",
      "metadata": {
        "id": "nbxcJSY82A5E"
      },
      "source": [
        "import time"
      ],
      "execution_count": null,
      "outputs": []
    },
    {
      "cell_type": "code",
      "metadata": {
        "colab": {
          "base_uri": "https://localhost:8080/"
        },
        "id": "qGgQfbKc-C4Y",
        "outputId": "2fa849e0-e5a6-4890-8227-e6fc1db8c542"
      },
      "source": [
        "# data_rdd_test = spark.sparkContext.parallelize(test_data)\n",
        "# start = time.time()\n",
        "# result = data_rdd_test.map(lambda x: calcKNN(data_rdd_train, x))\n",
        "# print(time.time() - start)"
      ],
      "execution_count": null,
      "outputs": [
        {
          "output_type": "stream",
          "name": "stdout",
          "text": [
            "0.0003142356872558594\n"
          ]
        }
      ]
    },
    {
      "cell_type": "code",
      "metadata": {
        "id": "7GpRMJgX_DzT"
      },
      "source": [
        "# result.collect()"
      ],
      "execution_count": null,
      "outputs": []
    },
    {
      "cell_type": "code",
      "metadata": {
        "colab": {
          "base_uri": "https://localhost:8080/"
        },
        "id": "7IiiPHpA16j4",
        "outputId": "473e10b5-af31-416d-ccbe-45ffa898f6ad"
      },
      "source": [
        "# Calc KNN\n",
        "start = time.time()\n",
        "result = []\n",
        "for i in test_data:\n",
        "  result.append(calcKNN(data_rdd_train, i))\n",
        "print(time.time() - start)"
      ],
      "execution_count": null,
      "outputs": [
        {
          "output_type": "stream",
          "name": "stdout",
          "text": [
            "879.9534842967987\n"
          ]
        }
      ]
    },
    {
      "cell_type": "code",
      "metadata": {
        "colab": {
          "base_uri": "https://localhost:8080/"
        },
        "id": "CVaBBE5KEoKP",
        "outputId": "0ba50054-34c2-48f7-a193-69e1a28a8a22"
      },
      "source": [
        "# Count Accurancy\n",
        "temp = 0\n",
        "for i in range(len(test_data)):\n",
        "  if result[i] == np.array(test_data[i][-1], dtype=np.float64):\n",
        "    temp = temp + 1\n",
        "print('Accurancy: ', temp/len(test_data))"
      ],
      "execution_count": null,
      "outputs": [
        {
          "output_type": "stream",
          "name": "stdout",
          "text": [
            "Accurancy:  0.96\n"
          ]
        }
      ]
    },
    {
      "cell_type": "code",
      "metadata": {
        "colab": {
          "base_uri": "https://localhost:8080/"
        },
        "id": "_PWRJKUt9Mzp",
        "outputId": "e8a5ff7d-7180-425f-ab1a-5c407dea46a0"
      },
      "source": [
        "from sklearn.metrics import classification_report, confusion_matrix\n",
        "print(classification_report(result, test_data[:,-1]))"
      ],
      "execution_count": null,
      "outputs": [
        {
          "output_type": "stream",
          "name": "stdout",
          "text": [
            "              precision    recall  f1-score   support\n",
            "\n",
            "         0.0       0.97      0.99      0.98        96\n",
            "         1.0       0.50      0.25      0.33         4\n",
            "\n",
            "    accuracy                           0.96       100\n",
            "   macro avg       0.73      0.62      0.66       100\n",
            "weighted avg       0.95      0.96      0.95       100\n",
            "\n"
          ]
        }
      ]
    },
    {
      "cell_type": "markdown",
      "metadata": {
        "id": "VT3ohhBrKfFA"
      },
      "source": [
        "\n",
        "\n",
        "---\n",
        "\n"
      ]
    }
  ]
}